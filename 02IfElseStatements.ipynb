{
 "cells": [
  {
   "cell_type": "markdown",
   "metadata": {},
   "source": [
    "## IF ELSE STATEMENTS"
   ]
  },
  {
   "cell_type": "code",
   "execution_count": 1,
   "metadata": {},
   "outputs": [],
   "source": [
    "x = 4\n",
    "y = 4"
   ]
  },
  {
   "cell_type": "code",
   "execution_count": 2,
   "metadata": {},
   "outputs": [
    {
     "name": "stdout",
     "output_type": "stream",
     "text": [
      "y ve x birbirine eşittir.\n"
     ]
    }
   ],
   "source": [
    "if x > y:\n",
    "    print(\"x, y'den daha büyükmüş.\")\n",
    "elif y > x:\n",
    "    print(\"y, x'den daha büyükmüş.\")\n",
    "elif x == y:\n",
    "    print(\"y ve x birbirine eşittir.\")"
   ]
  },
  {
   "cell_type": "markdown",
   "metadata": {},
   "source": [
    "* 'else' statement can be used only once."
   ]
  },
  {
   "cell_type": "code",
   "execution_count": 5,
   "metadata": {},
   "outputs": [
    {
     "name": "stdout",
     "output_type": "stream",
     "text": [
      "Choose your superhero: Iron Man\n"
     ]
    }
   ],
   "source": [
    "myHero = input(\"Choose your superhero: \")"
   ]
  },
  {
   "cell_type": "code",
   "execution_count": 6,
   "metadata": {},
   "outputs": [
    {
     "name": "stdout",
     "output_type": "stream",
     "text": [
      "Who is Iron Man?\n"
     ]
    }
   ],
   "source": [
    "if myHero == \"Batman\":\n",
    "    print(\"You choose Batman.\")\n",
    "elif myHero == 'Superman':\n",
    "    print(\"I wish you would've choose Batman.\")\n",
    "elif myHero == 'Iron Man':\n",
    "    print(\"Who is Iron Man?\")\n",
    "else:\n",
    "    print(\"I have no faintest idea who that is?!\")"
   ]
  },
  {
   "cell_type": "code",
   "execution_count": 7,
   "metadata": {},
   "outputs": [],
   "source": [
    "a = 10\n",
    "b = 20\n",
    "c = 30"
   ]
  },
  {
   "cell_type": "code",
   "execution_count": 8,
   "metadata": {},
   "outputs": [
    {
     "name": "stdout",
     "output_type": "stream",
     "text": [
      "a, b'den küçük ve b, c'den küçük.\n"
     ]
    }
   ],
   "source": [
    "if a > b and b > c:\n",
    "    print(\"a, b'den büyük VE b, c'den büyük.\")\n",
    "elif a < b and b < c:\n",
    "    print(\"a, b'den küçük ve b, c'den küçük.\")\n",
    "else:\n",
    "    print(\"Bu koşullar tutmadı.\")"
   ]
  },
  {
   "cell_type": "code",
   "execution_count": 10,
   "metadata": {},
   "outputs": [
    {
     "name": "stdout",
     "output_type": "stream",
     "text": [
      "True\n"
     ]
    }
   ],
   "source": [
    "strr = \"Doctor Who\"\n",
    "if 'or' in strr:\n",
    "    print(True)"
   ]
  },
  {
   "cell_type": "code",
   "execution_count": 12,
   "metadata": {},
   "outputs": [
    {
     "name": "stdout",
     "output_type": "stream",
     "text": [
      "apple :  300 calori.\n"
     ]
    }
   ],
   "source": [
    "dictt = {\"apple\" : 300, \"banana\" : 120, \"watermelon\" : 500}\n",
    "if \"apple\" in dictt.keys():\n",
    "    print(\"apple : \", dictt[\"apple\"], \"calori.\")"
   ]
  }
 ],
 "metadata": {
  "kernelspec": {
   "display_name": "Python 3",
   "language": "python",
   "name": "python3"
  },
  "language_info": {
   "codemirror_mode": {
    "name": "ipython",
    "version": 3
   },
   "file_extension": ".py",
   "mimetype": "text/x-python",
   "name": "python",
   "nbconvert_exporter": "python",
   "pygments_lexer": "ipython3",
   "version": "3.7.4"
  }
 },
 "nbformat": 4,
 "nbformat_minor": 2
}
