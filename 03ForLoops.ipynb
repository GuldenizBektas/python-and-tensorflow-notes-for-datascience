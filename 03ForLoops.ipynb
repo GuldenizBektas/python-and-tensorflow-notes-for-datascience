{
 "cells": [
  {
   "cell_type": "markdown",
   "metadata": {},
   "source": [
    "## For Loops"
   ]
  },
  {
   "cell_type": "code",
   "execution_count": 1,
   "metadata": {},
   "outputs": [
    {
     "data": {
      "text/plain": [
       "list"
      ]
     },
     "execution_count": 1,
     "metadata": {},
     "output_type": "execute_result"
    }
   ],
   "source": [
    "myList = [10, 20, 30, 40, 50]\n",
    "type(myList)"
   ]
  },
  {
   "cell_type": "code",
   "execution_count": 4,
   "metadata": {},
   "outputs": [
    {
     "name": "stdout",
     "output_type": "stream",
     "text": [
      "10\n",
      "20\n",
      "30\n",
      "none\n",
      "none\n"
     ]
    }
   ],
   "source": [
    "for item in myList:\n",
    "    if item < 35:\n",
    "        print(item)\n",
    "    else:\n",
    "        print('none')"
   ]
  },
  {
   "cell_type": "code",
   "execution_count": 5,
   "metadata": {},
   "outputs": [
    {
     "name": "stdout",
     "output_type": "stream",
     "text": [
      "30\n",
      "60\n",
      "90\n",
      "120\n",
      "150\n"
     ]
    }
   ],
   "source": [
    "for item in myList:\n",
    "    print(item * 3)"
   ]
  },
  {
   "cell_type": "code",
   "execution_count": 6,
   "metadata": {},
   "outputs": [
    {
     "name": "stdout",
     "output_type": "stream",
     "text": [
      "M\n",
      "e\n",
      "l\n",
      "o\n",
      "d\n",
      "i\n",
      "e\n",
      " \n",
      "P\n",
      "o\n",
      "n\n",
      "d\n"
     ]
    }
   ],
   "source": [
    "string = \"Melodie Pond\" # iterate over a string\n",
    "for let in string:\n",
    "    print(let)"
   ]
  },
  {
   "cell_type": "code",
   "execution_count": 7,
   "metadata": {},
   "outputs": [
    {
     "name": "stdout",
     "output_type": "stream",
     "text": [
      "23\n",
      "45\n",
      "23\n"
     ]
    }
   ],
   "source": [
    "coordinates = [(10, 23, 43), (242, 45, 234), (54, 23, 45)]\n",
    "for (x, y, z) in coordinates:\n",
    "    print(y)"
   ]
  },
  {
   "cell_type": "code",
   "execution_count": 8,
   "metadata": {},
   "outputs": [
    {
     "name": "stdout",
     "output_type": "stream",
     "text": [
      "23\n",
      "45\n",
      "23\n"
     ]
    }
   ],
   "source": [
    "for item in coordinates:\n",
    "    print(item[1])"
   ]
  },
  {
   "cell_type": "code",
   "execution_count": 10,
   "metadata": {},
   "outputs": [
    {
     "name": "stdout",
     "output_type": "stream",
     "text": [
      "apple : 200\n",
      "banana : 500\n",
      "watermelon : 600\n"
     ]
    }
   ],
   "source": [
    "fruits = {\"apple\" : 200, \"banana\" : 500, \"watermelon\" : 600}\n",
    "for (keys, values) in fruits.items():\n",
    "    print(keys, \":\", values)"
   ]
  },
  {
   "cell_type": "code",
   "execution_count": 20,
   "metadata": {},
   "outputs": [
    {
     "name": "stdout",
     "output_type": "stream",
     "text": [
      "eggs spam ham "
     ]
    }
   ],
   "source": [
    "for x in [\"eggs\", \"spam\", \"ham\"]:\n",
    "    print(x, end=' ')"
   ]
  },
  {
   "cell_type": "code",
   "execution_count": 21,
   "metadata": {},
   "outputs": [],
   "source": [
    "sum = 0\n",
    "for x in [1, 2, 3, 4, 5]:\n",
    "    sum += x"
   ]
  },
  {
   "cell_type": "code",
   "execution_count": 22,
   "metadata": {},
   "outputs": [
    {
     "data": {
      "text/plain": [
       "15"
      ]
     },
     "execution_count": 22,
     "metadata": {},
     "output_type": "execute_result"
    }
   ],
   "source": [
    "sum"
   ]
  },
  {
   "cell_type": "code",
   "execution_count": 25,
   "metadata": {},
   "outputs": [],
   "source": [
    "prod = 1\n",
    "for i in [1, 2, 3, 4, 5]: prod *= i"
   ]
  },
  {
   "cell_type": "code",
   "execution_count": 26,
   "metadata": {},
   "outputs": [
    {
     "data": {
      "text/plain": [
       "120"
      ]
     },
     "execution_count": 26,
     "metadata": {},
     "output_type": "execute_result"
    }
   ],
   "source": [
    "prod"
   ]
  },
  {
   "cell_type": "code",
   "execution_count": 27,
   "metadata": {},
   "outputs": [
    {
     "name": "stdout",
     "output_type": "stream",
     "text": [
      "and I'm okay "
     ]
    }
   ],
   "source": [
    "T = (\"and\", \"I'm\", \"okay\") # iterate over a tuple\n",
    "for t in T:\n",
    "    print(t, end=' ')"
   ]
  },
  {
   "cell_type": "code",
   "execution_count": 28,
   "metadata": {},
   "outputs": [
    {
     "name": "stdout",
     "output_type": "stream",
     "text": [
      "10 , 23 , 43\n",
      "242 , 45 , 234\n",
      "54 , 23 , 45\n"
     ]
    }
   ],
   "source": [
    "for triple in coordinates:\n",
    "    a, b, c = triple\n",
    "    print(a, \",\", b, \",\", c)"
   ]
  },
  {
   "cell_type": "code",
   "execution_count": 29,
   "metadata": {},
   "outputs": [
    {
     "name": "stdout",
     "output_type": "stream",
     "text": [
      "(4, 5) was found!\n",
      "3.14 not found!\n"
     ]
    }
   ],
   "source": [
    "items = [\"aaa\", 111, (4,5), 2.01]\n",
    "tests = [(4,5), 3.14]\n",
    "for key in tests:\n",
    "    if key in items:\n",
    "        print(key, \"was found!\")\n",
    "    else:\n",
    "        print(key, \"not found!\")"
   ]
  },
  {
   "cell_type": "code",
   "execution_count": 30,
   "metadata": {},
   "outputs": [],
   "source": [
    "seq1 = \"spam\"\n",
    "seq2 = \"scam\"\n",
    "\n",
    "res= []\n",
    "for x in seq1:\n",
    "    if x in seq2:\n",
    "        res.append(x)"
   ]
  },
  {
   "cell_type": "code",
   "execution_count": 31,
   "metadata": {},
   "outputs": [
    {
     "data": {
      "text/plain": [
       "['s', 'a', 'm']"
      ]
     },
     "execution_count": 31,
     "metadata": {},
     "output_type": "execute_result"
    }
   ],
   "source": [
    "res"
   ]
  },
  {
   "cell_type": "markdown",
   "metadata": {},
   "source": [
    "#### break : Jumps out of the closest encoding loop."
   ]
  },
  {
   "cell_type": "code",
   "execution_count": 33,
   "metadata": {},
   "outputs": [
    {
     "name": "stdout",
     "output_type": "stream",
     "text": [
      "10\n",
      "20\n"
     ]
    }
   ],
   "source": [
    "for i in myList:\n",
    "    if i == 30:\n",
    "        break\n",
    "    print(i)"
   ]
  },
  {
   "cell_type": "markdown",
   "metadata": {},
   "source": [
    "#### continue : Jumps to the top of the closest encoding loop."
   ]
  },
  {
   "cell_type": "code",
   "execution_count": 2,
   "metadata": {},
   "outputs": [
    {
     "name": "stdout",
     "output_type": "stream",
     "text": [
      "10\n",
      "30\n",
      "40\n",
      "50\n"
     ]
    }
   ],
   "source": [
    "for i in myList:\n",
    "    if i == 20:\n",
    "        continue\n",
    "    print(i)"
   ]
  },
  {
   "cell_type": "markdown",
   "metadata": {},
   "source": [
    "#### pass : Does nothing at all. It's an empty statement spaceholder."
   ]
  },
  {
   "cell_type": "code",
   "execution_count": 2,
   "metadata": {},
   "outputs": [],
   "source": [
    "for i in myList:\n",
    "    if i == 50:\n",
    "        pass"
   ]
  },
  {
   "cell_type": "markdown",
   "metadata": {},
   "source": [
    "### While Loop\n",
    "#### It repetadely executes a block of statement as long as a test at the top keeps eveluating to a True value."
   ]
  },
  {
   "cell_type": "code",
   "execution_count": 8,
   "metadata": {},
   "outputs": [
    {
     "name": "stdout",
     "output_type": "stream",
     "text": [
      "0 . Merhaba\n",
      "1 . Merhaba\n",
      "2 . Merhaba\n",
      "3 . Merhaba\n",
      "4 . Merhaba\n",
      "5 . Merhaba\n",
      "6 . Merhaba\n",
      "7 . Merhaba\n",
      "8 . Merhaba\n",
      "9 . Merhaba\n"
     ]
    }
   ],
   "source": [
    "x = 0\n",
    "while x < 10:\n",
    "    print(x, \". Merhaba\")\n",
    "    x = x + 1"
   ]
  },
  {
   "cell_type": "code",
   "execution_count": 9,
   "metadata": {},
   "outputs": [
    {
     "name": "stdout",
     "output_type": "stream",
     "text": [
      "3 still in the list.\n",
      "3 still in the list.\n",
      "3 still in the list.\n"
     ]
    }
   ],
   "source": [
    "myList = [0, 1, 2, 3, 4, 5]\n",
    "while 3 in myList:\n",
    "    print(\"3 still in the list.\")\n",
    "    myList.pop()"
   ]
  },
  {
   "cell_type": "code",
   "execution_count": 10,
   "metadata": {},
   "outputs": [
    {
     "name": "stdout",
     "output_type": "stream",
     "text": [
      "0\n",
      "1\n",
      "2\n",
      "3\n"
     ]
    }
   ],
   "source": [
    "num = 0\n",
    "while num < 5:\n",
    "    if num == 4:\n",
    "        break\n",
    "    print(num)\n",
    "    num += 1"
   ]
  },
  {
   "cell_type": "code",
   "execution_count": 12,
   "metadata": {},
   "outputs": [
    {
     "name": "stdout",
     "output_type": "stream",
     "text": [
      "New variable :0\n",
      "New variable :1\n",
      "New variable :2\n",
      "New variable :3\n",
      "New variable :4\n",
      "New variable :5\n",
      "New variable :6\n",
      "New variable :7\n",
      "New variable :8\n",
      "New variable :9\n",
      "New variable :10\n",
      "New variable :11\n",
      "New variable :12\n",
      "New variable :13\n",
      "New variable :14\n"
     ]
    }
   ],
   "source": [
    "newVar = 0\n",
    "while newVar < 15 :\n",
    "    print(\"New variable :\" + str(newVar))\n",
    "    newVar += 1"
   ]
  },
  {
   "cell_type": "markdown",
   "metadata": {},
   "source": [
    "Other way for the code above:"
   ]
  },
  {
   "cell_type": "code",
   "execution_count": 20,
   "metadata": {},
   "outputs": [
    {
     "name": "stdout",
     "output_type": "stream",
     "text": [
      "New variable : 0\n",
      "New variable : 1\n",
      "New variable : 2\n",
      "New variable : 3\n",
      "New variable : 4\n",
      "New variable : 5\n",
      "New variable : 6\n",
      "New variable : 7\n",
      "New variable : 8\n",
      "New variable : 9\n",
      "New variable : 10\n",
      "New variable : 11\n",
      "New variable : 12\n",
      "New variable : 13\n",
      "New variable : 14\n"
     ]
    }
   ],
   "source": [
    "newVar = 0\n",
    "while newVar < 15 :\n",
    "    #print(f\"New variable : {newVar}\") is more efficient.\n",
    "    print(\"New variable : {}\".format(newVar))\n",
    "    newVar += 1"
   ]
  },
  {
   "cell_type": "code",
   "execution_count": null,
   "metadata": {},
   "outputs": [],
   "source": []
  }
 ],
 "metadata": {
  "kernelspec": {
   "display_name": "Python 3",
   "language": "python",
   "name": "python3"
  },
  "language_info": {
   "codemirror_mode": {
    "name": "ipython",
    "version": 3
   },
   "file_extension": ".py",
   "mimetype": "text/x-python",
   "name": "python",
   "nbconvert_exporter": "python",
   "pygments_lexer": "ipython3",
   "version": "3.7.4"
  }
 },
 "nbformat": 4,
 "nbformat_minor": 2
}
